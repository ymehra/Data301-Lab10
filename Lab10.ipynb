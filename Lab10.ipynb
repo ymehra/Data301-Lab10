{
 "cells": [
  {
   "cell_type": "code",
   "execution_count": null,
   "metadata": {
    "collapsed": false
   },
   "outputs": [
    {
     "name": "stdout",
     "output_type": "stream",
     "text": [
      "User  17748 , Joke  23\n",
      "Real rating:  -6.31\n",
      "Collaborative mean utility error: 7.18099078018\n",
      "Collaborative weighted sum error: 7.28378358193\n",
      "Collaborative adjusted weighted sum error: 4.18399944303\n",
      "K Nearest Neighbors collaborative average error: 4.21800000000\n",
      "K Nearest Neighbors collaborative weighted sum error: 4.14152237381\n",
      "Item-based mean utility error: 4.32580000000\n",
      "Item-based weighted sum error: 4.52145788364\n",
      "Item-based adjusted weighted sum error: 4.78413446753\n",
      "K Nearest Neighbors item-based average error: 3.24600000000\n",
      "K Nearest Neighbors item-based weighted sum error: 3.28730441189\n",
      "User  6135 , Joke  63\n",
      "Real rating:  -0.49\n",
      "Collaborative mean utility error: 3.47309989950\n",
      "Collaborative weighted sum error: 2.68528274613\n",
      "Collaborative adjusted weighted sum error: 4.80018491677\n",
      "K Nearest Neighbors collaborative average error: 4.30100000000\n",
      "K Nearest Neighbors collaborative weighted sum error: 4.42052654269\n",
      "Item-based mean utility error: 1.57500000000\n",
      "Item-based weighted sum error: 1.33916257700\n",
      "Item-based adjusted weighted sum error: 2.00052330589\n",
      "K Nearest Neighbors item-based average error: 0.42300000000\n",
      "K Nearest Neighbors item-based weighted sum error: 0.44131718796\n",
      "User  859 , Joke  95\n",
      "Real rating:  -9.51\n"
     ]
    }
   ],
   "source": [
    "import lab10"
   ]
  },
  {
   "cell_type": "code",
   "execution_count": null,
   "metadata": {
    "collapsed": true
   },
   "outputs": [],
   "source": []
  }
 ],
 "metadata": {
  "kernelspec": {
   "display_name": "Python 3",
   "language": "python",
   "name": "python3"
  },
  "language_info": {
   "codemirror_mode": {
    "name": "ipython",
    "version": 3
   },
   "file_extension": ".py",
   "mimetype": "text/x-python",
   "name": "python",
   "nbconvert_exporter": "python",
   "pygments_lexer": "ipython3",
   "version": "3.4.3"
  }
 },
 "nbformat": 4,
 "nbformat_minor": 0
}
